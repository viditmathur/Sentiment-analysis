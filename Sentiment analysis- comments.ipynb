{
 "cells": [
  {
   "cell_type": "code",
   "execution_count": 174,
   "metadata": {},
   "outputs": [],
   "source": [
    "from bs4 import BeautifulSoup\n",
    "from textblob import TextBlob\n",
    "import matplotlib.pyplot as plt\n",
    "import requests\n",
    "import pandas as pd"
   ]
  },
  {
   "cell_type": "code",
   "execution_count": 175,
   "metadata": {},
   "outputs": [],
   "source": [
    "r = requests.get('https://www.nytimes.com/interactive/2017/06/23/opinion/trumps-lies.html')\n",
    "soup = BeautifulSoup(r.text,'html.parser')\n",
    "results= soup.find_all('span', attrs={'class':'short-desc'})"
   ]
  },
  {
   "cell_type": "code",
   "execution_count": 176,
   "metadata": {},
   "outputs": [],
   "source": [
    "records = []\n",
    "count=0\n",
    "for result in results:\n",
    "    count=count+1\n",
    "    lie = result.contents[1][1:-2]\n",
    "    sentiment=TextBlob(lie).sentiment.polarity\n",
    "    records.append(( lie,sentiment))"
   ]
  },
  {
   "cell_type": "code",
   "execution_count": 177,
   "metadata": {},
   "outputs": [],
   "source": [
    "df = pd.DataFrame(records, columns=['lie','sentiment'])\n",
    "\n",
    "df.to_csv('trump_lies.csv', index=False, encoding='utf-8')\n",
    "\n",
    "df = pd.read_csv('trump_lies.csv', encoding='utf-8')"
   ]
  },
  {
   "cell_type": "code",
   "execution_count": 178,
   "metadata": {},
   "outputs": [
    {
     "data": {
      "image/png": "[encoded data removed]",
      "text/plain": [
       "<matplotlib.figure.Figure at 0x1bde4d9d9e8>"
      ]
     },
     "metadata": {},
     "output_type": "display_data"
    },
    {
     "name": "stdout",
     "output_type": "stream",
     "text": [
      "Total 180\n",
      "neutral 69\n",
      "good 63\n",
      "excellent 0\n",
      "bad 42\n",
      "worst 6\n"
     ]
    }
   ],
   "source": [
    "neutral=0\n",
    "good=0\n",
    "excellent=0\n",
    "bad=0\n",
    "worst=0\n",
    "a=df.iloc[:,1]\n",
    "\n",
    "\n",
    "\n",
    "for i in range(0,count):\n",
    "    b=a[i]\n",
    "    if(b==0.0):\n",
    "        neutral=neutral+1\n",
    "    if((b<0) and(b>=(-0.5))):\n",
    "        bad=bad+1\n",
    "    if(b<(-0.5)):\n",
    "        worst=worst+1\n",
    "    if((b>0) and (b<=0.5)):\n",
    "        good=good+1\n",
    "    if(b>0.5):\n",
    "        neutral=neutral+1\n",
    "analysis=[neutral,good,excellent,bad,worst]\n",
    "plt.pie(analysis,labels=['Neutral','Good','Excellent','Bad','Worst'],shadow= True)\n",
    "plt.title(\"Analysis for reviews/comments on above mentioned post\")\n",
    "plt.show() \n",
    "print('Total',count)\n",
    "print('neutral',neutral)\n",
    "print('good',good)\n",
    "print('excellent',excellent)\n",
    "print('bad',bad)\n",
    "print('worst',worst)"
   ]
  },
  {
   "cell_type": "code",
   "execution_count": null,
   "metadata": {},
   "outputs": [],
   "source": []
  }
 ],
 "metadata": {
  "kernelspec": {
   "display_name": "Python 3",
   "language": "python",
   "name": "python3"
  },
  "language_info": {
   "codemirror_mode": {
    "name": "ipython",
    "version": 3
   },
   "file_extension": ".py",
   "mimetype": "text/x-python",
   "name": "python",
   "nbconvert_exporter": "python",
   "pygments_lexer": "ipython3",
   "version": "3.6.1"
  }
 },
 "nbformat": 4,
 "nbformat_minor": 2
}
